{
  "cells": [
    {
      "cell_type": "code",
      "execution_count": null,
      "id": "adfffa37",
      "metadata": {
        "id": "adfffa37"
      },
      "outputs": [],
      "source": [
        "import sys\n",
        "from datetime import datetime\n",
        "\n",
        "from pyspark.sql import SparkSession\n",
        "from pyspark.sql.functions import *"
      ]
    },
    {
      "cell_type": "code",
      "execution_count": null,
      "id": "a273c841",
      "metadata": {
        "id": "a273c841"
      },
      "outputs": [],
      "source": [
        "spark = SparkSession.builder\\\n",
        "        .appName('EMRGluePySparkAssignment')\\\n",
        "        .getOrCreate()"
      ]
    },
    {
      "cell_type": "code",
      "execution_count": null,
      "id": "d9196524",
      "metadata": {
        "id": "d9196524"
      },
      "outputs": [],
      "source": [
        "spark.catalog.setCurrentDatabase(\"hcdb\")"
      ]
    },
    {
      "cell_type": "code",
      "execution_count": null,
      "id": "673144b5",
      "metadata": {
        "id": "673144b5"
      },
      "outputs": [],
      "source": [
        "# code from the original tutorial notebook, caused an error\n",
        "df = spark.sql(\"select * from hc_application_csv\")"
      ]
    },
    {
      "cell_type": "code",
      "execution_count": null,
      "id": "0e66f050",
      "metadata": {
        "scrolled": true,
        "id": "0e66f050"
      },
      "outputs": [],
      "source": [
        "# modified code with a different source, seems to generate the correct result per the remainder of the tutorial\n",
        "df = spark.sql(\"select * from hc_applications\")"
      ]
    },
    {
      "cell_type": "code",
      "execution_count": null,
      "id": "9d6b7b86",
      "metadata": {
        "id": "9d6b7b86"
      },
      "outputs": [],
      "source": [
        "# Once the data is read, validate the schema for the data read\n",
        "\n",
        "df.printSchema()"
      ]
    },
    {
      "cell_type": "code",
      "execution_count": null,
      "id": "0823fe52",
      "metadata": {
        "id": "0823fe52"
      },
      "outputs": [],
      "source": [
        "df.count()"
      ]
    },
    {
      "cell_type": "code",
      "execution_count": null,
      "id": "cdf790cb",
      "metadata": {
        "id": "cdf790cb"
      },
      "outputs": [],
      "source": [
        "df.first()"
      ]
    },
    {
      "cell_type": "code",
      "execution_count": null,
      "id": "30a12519",
      "metadata": {
        "id": "30a12519"
      },
      "outputs": [],
      "source": [
        "df.describe().show()"
      ]
    }
  ],
  "metadata": {
    "kernelspec": {
      "display_name": "PySpark",
      "language": "python",
      "name": "pysparkkernel"
    },
    "language_info": {
      "codemirror_mode": {
        "name": "python",
        "version": 3
      },
      "file_extension": ".py",
      "mimetype": "text/x-python",
      "name": "pyspark",
      "pygments_lexer": "python3"
    },
    "colab": {
      "provenance": []
    }
  },
  "nbformat": 4,
  "nbformat_minor": 5
}